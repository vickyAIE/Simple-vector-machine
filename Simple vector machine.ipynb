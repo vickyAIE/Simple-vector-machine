{
 "cells": [
  {
   "cell_type": "code",
   "execution_count": 1,
   "id": "0cd37382",
   "metadata": {},
   "outputs": [],
   "source": [
    "import pandas as pd\n",
    "import numpy as np\n",
    "import warnings\n",
    "warnings.filterwarnings('ignore')\n",
    "\n",
    "from sklearn.model_selection import train_test_split, RandomizedSearchCV, GridSearchCV\n",
    "from sklearn.preprocessing import StandardScaler, MaxAbsScaler\n",
    "\n",
    "from sklearn.svm import SVC, SVR\n",
    "\n",
    "from sklearn.metrics import accuracy_score, classification_report, confusion_matrix"
   ]
  },
  {
   "cell_type": "code",
   "execution_count": 2,
   "id": "f51463e0",
   "metadata": {},
   "outputs": [
    {
     "data": {
      "text/html": [
       "<div>\n",
       "<style scoped>\n",
       "    .dataframe tbody tr th:only-of-type {\n",
       "        vertical-align: middle;\n",
       "    }\n",
       "\n",
       "    .dataframe tbody tr th {\n",
       "        vertical-align: top;\n",
       "    }\n",
       "\n",
       "    .dataframe thead th {\n",
       "        text-align: right;\n",
       "    }\n",
       "</style>\n",
       "<table border=\"1\" class=\"dataframe\">\n",
       "  <thead>\n",
       "    <tr style=\"text-align: right;\">\n",
       "      <th></th>\n",
       "      <th>User ID</th>\n",
       "      <th>Gender</th>\n",
       "      <th>Age</th>\n",
       "      <th>EstimatedSalary</th>\n",
       "      <th>Purchased</th>\n",
       "    </tr>\n",
       "  </thead>\n",
       "  <tbody>\n",
       "    <tr>\n",
       "      <th>0</th>\n",
       "      <td>15624510</td>\n",
       "      <td>Male</td>\n",
       "      <td>19</td>\n",
       "      <td>19000</td>\n",
       "      <td>0</td>\n",
       "    </tr>\n",
       "    <tr>\n",
       "      <th>1</th>\n",
       "      <td>15810944</td>\n",
       "      <td>Male</td>\n",
       "      <td>35</td>\n",
       "      <td>20000</td>\n",
       "      <td>0</td>\n",
       "    </tr>\n",
       "    <tr>\n",
       "      <th>2</th>\n",
       "      <td>15668575</td>\n",
       "      <td>Female</td>\n",
       "      <td>26</td>\n",
       "      <td>43000</td>\n",
       "      <td>0</td>\n",
       "    </tr>\n",
       "    <tr>\n",
       "      <th>3</th>\n",
       "      <td>15603246</td>\n",
       "      <td>Female</td>\n",
       "      <td>27</td>\n",
       "      <td>57000</td>\n",
       "      <td>0</td>\n",
       "    </tr>\n",
       "    <tr>\n",
       "      <th>4</th>\n",
       "      <td>15804002</td>\n",
       "      <td>Male</td>\n",
       "      <td>19</td>\n",
       "      <td>76000</td>\n",
       "      <td>0</td>\n",
       "    </tr>\n",
       "    <tr>\n",
       "      <th>...</th>\n",
       "      <td>...</td>\n",
       "      <td>...</td>\n",
       "      <td>...</td>\n",
       "      <td>...</td>\n",
       "      <td>...</td>\n",
       "    </tr>\n",
       "    <tr>\n",
       "      <th>395</th>\n",
       "      <td>15691863</td>\n",
       "      <td>Female</td>\n",
       "      <td>46</td>\n",
       "      <td>41000</td>\n",
       "      <td>1</td>\n",
       "    </tr>\n",
       "    <tr>\n",
       "      <th>396</th>\n",
       "      <td>15706071</td>\n",
       "      <td>Male</td>\n",
       "      <td>51</td>\n",
       "      <td>23000</td>\n",
       "      <td>1</td>\n",
       "    </tr>\n",
       "    <tr>\n",
       "      <th>397</th>\n",
       "      <td>15654296</td>\n",
       "      <td>Female</td>\n",
       "      <td>50</td>\n",
       "      <td>20000</td>\n",
       "      <td>1</td>\n",
       "    </tr>\n",
       "    <tr>\n",
       "      <th>398</th>\n",
       "      <td>15755018</td>\n",
       "      <td>Male</td>\n",
       "      <td>36</td>\n",
       "      <td>33000</td>\n",
       "      <td>0</td>\n",
       "    </tr>\n",
       "    <tr>\n",
       "      <th>399</th>\n",
       "      <td>15594041</td>\n",
       "      <td>Female</td>\n",
       "      <td>49</td>\n",
       "      <td>36000</td>\n",
       "      <td>1</td>\n",
       "    </tr>\n",
       "  </tbody>\n",
       "</table>\n",
       "<p>400 rows × 5 columns</p>\n",
       "</div>"
      ],
      "text/plain": [
       "      User ID  Gender  Age  EstimatedSalary  Purchased\n",
       "0    15624510    Male   19            19000          0\n",
       "1    15810944    Male   35            20000          0\n",
       "2    15668575  Female   26            43000          0\n",
       "3    15603246  Female   27            57000          0\n",
       "4    15804002    Male   19            76000          0\n",
       "..        ...     ...  ...              ...        ...\n",
       "395  15691863  Female   46            41000          1\n",
       "396  15706071    Male   51            23000          1\n",
       "397  15654296  Female   50            20000          1\n",
       "398  15755018    Male   36            33000          0\n",
       "399  15594041  Female   49            36000          1\n",
       "\n",
       "[400 rows x 5 columns]"
      ]
     },
     "execution_count": 2,
     "metadata": {},
     "output_type": "execute_result"
    }
   ],
   "source": [
    "df= pd.read_csv(\"Social_Network_Ads.csv\")\n",
    "df"
   ]
  },
  {
   "cell_type": "code",
   "execution_count": 3,
   "id": "76dc623d",
   "metadata": {},
   "outputs": [
    {
     "name": "stdout",
     "output_type": "stream",
     "text": [
      "<class 'pandas.core.frame.DataFrame'>\n",
      "RangeIndex: 400 entries, 0 to 399\n",
      "Data columns (total 5 columns):\n",
      " #   Column           Non-Null Count  Dtype \n",
      "---  ------           --------------  ----- \n",
      " 0   User ID          400 non-null    int64 \n",
      " 1   Gender           400 non-null    object\n",
      " 2   Age              400 non-null    int64 \n",
      " 3   EstimatedSalary  400 non-null    int64 \n",
      " 4   Purchased        400 non-null    int64 \n",
      "dtypes: int64(4), object(1)\n",
      "memory usage: 15.8+ KB\n"
     ]
    }
   ],
   "source": [
    "df.info()"
   ]
  },
  {
   "cell_type": "code",
   "execution_count": 4,
   "id": "82b19f87",
   "metadata": {},
   "outputs": [
    {
     "data": {
      "text/plain": [
       "{'Female': 204, 'Male': 196}"
      ]
     },
     "execution_count": 4,
     "metadata": {},
     "output_type": "execute_result"
    }
   ],
   "source": [
    "df['Gender'].value_counts().to_dict()"
   ]
  },
  {
   "cell_type": "code",
   "execution_count": 5,
   "id": "ef9b23db",
   "metadata": {},
   "outputs": [],
   "source": [
    "df['Gender'].replace({'Female': 0, 'Male': 1}, inplace=True)"
   ]
  },
  {
   "cell_type": "code",
   "execution_count": 6,
   "id": "df405262",
   "metadata": {},
   "outputs": [
    {
     "name": "stdout",
     "output_type": "stream",
     "text": [
      "<class 'pandas.core.frame.DataFrame'>\n",
      "RangeIndex: 400 entries, 0 to 399\n",
      "Data columns (total 5 columns):\n",
      " #   Column           Non-Null Count  Dtype\n",
      "---  ------           --------------  -----\n",
      " 0   User ID          400 non-null    int64\n",
      " 1   Gender           400 non-null    int64\n",
      " 2   Age              400 non-null    int64\n",
      " 3   EstimatedSalary  400 non-null    int64\n",
      " 4   Purchased        400 non-null    int64\n",
      "dtypes: int64(5)\n",
      "memory usage: 15.8 KB\n"
     ]
    }
   ],
   "source": [
    "df.info()"
   ]
  },
  {
   "cell_type": "code",
   "execution_count": 7,
   "id": "caa51c15",
   "metadata": {},
   "outputs": [],
   "source": [
    "import seaborn as sns\n",
    "import matplotlib.pyplot as plt"
   ]
  },
  {
   "cell_type": "code",
   "execution_count": 8,
   "id": "30d8de09",
   "metadata": {},
   "outputs": [
    {
     "data": {
      "text/plain": [
       "<Axes: >"
      ]
     },
     "execution_count": 8,
     "metadata": {},
     "output_type": "execute_result"
    },
    {
     "data": {
      "image/png": "[encoded data removed]",
      "text/plain": [
       "<Figure size 640x480 with 1 Axes>"
      ]
     },
     "metadata": {},
     "output_type": "display_data"
    }
   ],
   "source": [
    "sns.boxplot(df['Age'])"
   ]
  },
  {
   "cell_type": "code",
   "execution_count": 9,
   "id": "4c4ef9ec",
   "metadata": {
    "scrolled": true
   },
   "outputs": [
    {
     "data": {
      "text/plain": [
       "<Axes: >"
      ]
     },
     "execution_count": 9,
     "metadata": {},
     "output_type": "execute_result"
    },
    {
     "data": {
      "image/png": "[encoded data removed]",
      "text/plain": [
       "<Figure size 640x480 with 1 Axes>"
      ]
     },
     "metadata": {},
     "output_type": "display_data"
    }
   ],
   "source": [
    "sns.boxplot(df['EstimatedSalary'])"
   ]
  },
  {
   "cell_type": "code",
   "execution_count": 10,
   "id": "658acdbd",
   "metadata": {},
   "outputs": [
    {
     "data": {
      "text/plain": [
       "0    257\n",
       "1    143\n",
       "Name: Purchased, dtype: int64"
      ]
     },
     "execution_count": 10,
     "metadata": {},
     "output_type": "execute_result"
    }
   ],
   "source": [
    "df.Purchased.value_counts()"
   ]
  },
  {
   "cell_type": "markdown",
   "id": "870c49d2",
   "metadata": {},
   "source": [
    "# scaling  by StandardScaler"
   ]
  },
  {
   "cell_type": "code",
   "execution_count": 11,
   "id": "25a1d572",
   "metadata": {},
   "outputs": [],
   "source": [
    "x=df.drop(['Purchased', 'User ID'], axis=1)\n",
    "y=df['Purchased']"
   ]
  },
  {
   "cell_type": "code",
   "execution_count": 12,
   "id": "56516f2c",
   "metadata": {},
   "outputs": [],
   "source": [
    "x_train, x_test, y_train, y_test=train_test_split(x,y, random_state= 42, test_size=0.20, stratify=y)"
   ]
  },
  {
   "cell_type": "code",
   "execution_count": 13,
   "id": "28000b3a",
   "metadata": {},
   "outputs": [],
   "source": [
    "std_scaler= StandardScaler()\n",
    "x_train_scal= std_scaler.fit_transform(x_train)\n",
    "x_test_scal= std_scaler.transform(x_test)"
   ]
  },
  {
   "cell_type": "code",
   "execution_count": 14,
   "id": "bb48dda5",
   "metadata": {},
   "outputs": [
    {
     "data": {
      "text/plain": [
       "array([[ 1.08483674, -1.23446186, -0.367992  ],\n",
       "       [-0.92179769, -0.57764605, -1.05831408],\n",
       "       [-0.92179769,  0.07916976,  0.26480323],\n",
       "       [-0.92179769,  1.95578636, -1.3747117 ],\n",
       "       [-0.92179769,  0.36066225, -0.31046516],\n",
       "       [ 1.08483674,  0.17300059,  0.17851297],\n",
       "       [ 1.08483674,  2.14344802,  0.35109349],\n",
       "       [ 1.08483674,  0.45449308, -0.48304568],\n",
       "       [-0.92179769, -0.01466107,  0.20727639],\n",
       "       [ 1.08483674, -0.01466107,  0.17851297],\n",
       "       [-0.92179769, -0.85913854, -0.33922858],\n",
       "       [-0.92179769, -1.60978518, -1.3747117 ],\n",
       "       [-0.92179769, -1.23446186,  0.52367401],\n",
       "       [-0.92179769, -0.85913854, -0.77067988],\n",
       "       [-0.92179769,  0.8298164 , -0.85697014],\n",
       "       [-0.92179769,  1.01747806, -1.20213118],\n",
       "       [ 1.08483674,  0.17300059,  1.01265215],\n",
       "       [ 1.08483674, -0.48381522,  1.41534003],\n",
       "       [ 1.08483674, -0.29615356,  1.18523267],\n",
       "       [-0.92179769,  0.17300059,  0.00593246],\n",
       "       [-0.92179769,  1.11130889, -0.91449698],\n",
       "       [ 1.08483674, -0.48381522, -1.5185288 ],\n",
       "       [-0.92179769, -1.79744684, -0.77067988],\n",
       "       [-0.92179769,  0.07916976,  1.21399609],\n",
       "       [-0.92179769, -0.01466107,  1.90431817],\n",
       "       [-0.92179769, -0.20232273, -1.3747117 ],\n",
       "       [-0.92179769, -1.51595435, -0.0803578 ],\n",
       "       [-0.92179769, -0.20232273,  0.75378137],\n",
       "       [ 1.08483674,  0.92364723, -1.3747117 ],\n",
       "       [-0.92179769, -1.23446186, -0.45428226],\n",
       "       [ 1.08483674, -0.20232273,  0.23603981],\n",
       "       [-0.92179769,  0.07916976, -0.16664806],\n",
       "       [-0.92179769, -0.48381522,  1.32904977],\n",
       "       [ 1.08483674,  1.7681247 , -0.31046516],\n",
       "       [ 1.08483674, -1.32829269, -1.46100196],\n",
       "       [ 1.08483674, -0.20232273,  0.0634593 ],\n",
       "       [ 1.08483674, -0.20232273, -0.45428226],\n",
       "       [ 1.08483674, -0.1084919 , -0.54057252],\n",
       "       [-0.92179769,  0.92364723,  1.21399609],\n",
       "       [-0.92179769, -0.95296937, -0.39675542],\n",
       "       [-0.92179769,  0.26683142,  2.04813527],\n",
       "       [-0.92179769, -1.0468002 , -1.54729222],\n",
       "       [-0.92179769, -0.95296937, -1.54729222],\n",
       "       [ 1.08483674, -0.76530771,  0.12098613],\n",
       "       [-0.92179769,  1.01747806,  0.72501795],\n",
       "       [-0.92179769, -0.85913854, -0.45428226],\n",
       "       [-0.92179769, -0.85913854,  0.46614717],\n",
       "       [ 1.08483674, -0.1084919 ,  1.35781319],\n",
       "       [ 1.08483674,  1.86195553,  0.09222272],\n",
       "       [ 1.08483674, -0.1084919 ,  0.81130821],\n",
       "       [-0.92179769, -0.20232273, -0.59809936],\n",
       "       [ 1.08483674,  0.92364723, -0.7994433 ],\n",
       "       [ 1.08483674, -0.76530771, -0.28170174],\n",
       "       [-0.92179769, -0.1084919 , -0.48304568],\n",
       "       [-0.92179769, -0.95296937,  0.37985691],\n",
       "       [ 1.08483674, -0.01466107,  2.10566211],\n",
       "       [-0.92179769, -0.57764605, -0.0803578 ],\n",
       "       [-0.92179769, -0.01466107,  2.16318895],\n",
       "       [ 1.08483674, -1.0468002 , -1.17336776],\n",
       "       [ 1.08483674,  0.26683142, -0.33922858],\n",
       "       [ 1.08483674, -0.57764605, -1.5185288 ],\n",
       "       [ 1.08483674,  2.14344802, -1.05831408],\n",
       "       [-0.92179769,  1.11130889,  2.01937185],\n",
       "       [-0.92179769, -0.95296937,  0.72501795],\n",
       "       [-0.92179769,  1.39280138,  1.93308159],\n",
       "       [ 1.08483674, -0.85913854, -0.33922858],\n",
       "       [-0.92179769,  2.04961719,  0.49491059],\n",
       "       [ 1.08483674,  0.8298164 ,  1.32904977],\n",
       "       [-0.92179769,  0.92364723, -1.17336776],\n",
       "       [-0.92179769,  1.39280138,  0.55243743],\n",
       "       [ 1.08483674,  1.01747806,  0.09222272],\n",
       "       [-0.92179769, -0.95296937,  1.90431817],\n",
       "       [ 1.08483674,  1.67429387, -0.91449698],\n",
       "       [-0.92179769, -0.1084919 , -0.59809936],\n",
       "       [-0.92179769,  0.45449308,  0.23603981],\n",
       "       [ 1.08483674, -0.01466107, -0.02283096],\n",
       "       [ 1.08483674,  0.26683142, -0.39675542],\n",
       "       [-0.92179769,  2.04961719, -0.82820672],\n",
       "       [ 1.08483674, -0.20232273,  0.58120085],\n",
       "       [-0.92179769,  0.54832391,  1.78926449],\n",
       "       [ 1.08483674,  0.17300059,  1.81802791],\n",
       "       [ 1.08483674, -0.01466107,  0.12098613],\n",
       "       [ 1.08483674,  0.26683142, -0.68438962],\n",
       "       [ 1.08483674,  0.45449308,  0.26480323],\n",
       "       [-0.92179769,  1.58046304,  0.95512531],\n",
       "       [ 1.08483674, -0.67147688, -1.54729222],\n",
       "       [ 1.08483674, -0.67147688,  0.46614717],\n",
       "       [ 1.08483674,  0.07916976, -0.56933594],\n",
       "       [-0.92179769,  1.95578636,  0.69625453],\n",
       "       [-0.92179769,  0.07916976, -0.59809936],\n",
       "       [-0.92179769, -0.85913854, -0.97202382],\n",
       "       [ 1.08483674, -1.60978518,  0.43738375],\n",
       "       [-0.92179769, -0.95296937, -1.14460434],\n",
       "       [ 1.08483674,  0.8298164 ,  0.49491059],\n",
       "       [ 1.08483674,  0.36066225,  0.03469588],\n",
       "       [ 1.08483674, -1.42212352, -1.5185288 ],\n",
       "       [ 1.08483674, -0.85913854,  0.52367401],\n",
       "       [ 1.08483674, -0.57764605, -0.13788464],\n",
       "       [-0.92179769, -1.32829269, -1.2308946 ],\n",
       "       [ 1.08483674, -1.79744684, -0.54057252],\n",
       "       [ 1.08483674, -0.76530771,  2.22071579],\n",
       "       [-0.92179769, -1.51595435, -1.57605564],\n",
       "       [ 1.08483674, -0.48381522,  0.84007163],\n",
       "       [ 1.08483674,  0.8298164 , -0.33922858],\n",
       "       [ 1.08483674, -0.01466107, -0.54057252],\n",
       "       [ 1.08483674, -1.32829269, -0.2241749 ],\n",
       "       [ 1.08483674,  1.11130889, -1.2308946 ],\n",
       "       [-0.92179769,  1.39280138, -0.9432604 ],\n",
       "       [ 1.08483674,  2.04961719,  2.07689869],\n",
       "       [ 1.08483674, -0.67147688,  1.04141557],\n",
       "       [ 1.08483674,  1.11130889, -0.16664806],\n",
       "       [-0.92179769,  1.86195553, -1.0870775 ],\n",
       "       [-0.92179769, -0.20232273,  0.00593246],\n",
       "       [-0.92179769, -0.67147688,  1.30028635],\n",
       "       [-0.92179769,  0.36066225,  0.00593246],\n",
       "       [-0.92179769, -1.0468002 ,  0.37985691],\n",
       "       [ 1.08483674, -0.85913854, -1.11584092],\n",
       "       [ 1.08483674, -0.95296937, -0.367992  ],\n",
       "       [ 1.08483674, -1.14063103, -1.0870775 ],\n",
       "       [ 1.08483674,  0.92364723, -1.05831408],\n",
       "       [ 1.08483674,  1.95578636,  2.10566211],\n",
       "       [ 1.08483674, -0.20232273,  0.03469588],\n",
       "       [-0.92179769, -0.20232273,  0.17851297],\n",
       "       [ 1.08483674,  1.86195553, -0.31046516],\n",
       "       [-0.92179769, -0.76530771, -0.68438962],\n",
       "       [-0.92179769, -1.60978518, -1.00078724],\n",
       "       [ 1.08483674, -1.70361601,  0.40862033],\n",
       "       [ 1.08483674,  0.73598557, -1.11584092],\n",
       "       [-0.92179769, -1.42212352, -1.25965802],\n",
       "       [-0.92179769, -0.20232273,  2.19195237],\n",
       "       [-0.92179769,  0.8298164 ,  0.32233007],\n",
       "       [ 1.08483674,  0.26683142, -0.28170174],\n",
       "       [ 1.08483674,  0.17300059, -0.82820672],\n",
       "       [-0.92179769,  0.73598557, -0.74191646],\n",
       "       [-0.92179769,  1.01747806, -1.17336776],\n",
       "       [-0.92179769, -1.0468002 ,  1.35781319],\n",
       "       [ 1.08483674, -0.67147688, -1.60481906],\n",
       "       [ 1.08483674,  0.17300059, -0.82820672],\n",
       "       [-0.92179769, -0.1084919 ,  1.58792055],\n",
       "       [ 1.08483674,  0.26683142, -0.39675542],\n",
       "       [-0.92179769, -1.79744684, -0.0803578 ],\n",
       "       [ 1.08483674,  0.8298164 ,  0.23603981],\n",
       "       [-0.92179769,  1.67429387,  1.55915713],\n",
       "       [-0.92179769,  1.20513972, -1.46100196],\n",
       "       [-0.92179769,  0.45449308, -0.5118091 ],\n",
       "       [-0.92179769,  1.48663221,  0.32233007],\n",
       "       [-0.92179769,  1.67429387,  1.70297423],\n",
       "       [-0.92179769, -0.20232273,  0.03469588],\n",
       "       [ 1.08483674,  1.11130889,  0.52367401],\n",
       "       [-0.92179769, -0.38998439, -0.05159438],\n",
       "       [ 1.08483674,  0.17300059,  0.72501795],\n",
       "       [ 1.08483674, -0.95296937, -1.46100196],\n",
       "       [ 1.08483674, -0.20232273, -0.367992  ],\n",
       "       [-0.92179769,  1.86195553,  1.47286687],\n",
       "       [ 1.08483674, -0.95296937,  0.49491059],\n",
       "       [-0.92179769,  1.48663221,  2.07689869],\n",
       "       [-0.92179769, -0.95296937, -0.48304568],\n",
       "       [-0.92179769, -0.76530771,  0.35109349],\n",
       "       [-0.92179769, -0.01466107,  0.00593246],\n",
       "       [ 1.08483674,  0.26683142,  0.12098613],\n",
       "       [ 1.08483674,  0.45449308, -0.16664806],\n",
       "       [-0.92179769, -0.95296937, -0.367992  ],\n",
       "       [ 1.08483674,  0.8298164 , -1.3747117 ],\n",
       "       [-0.92179769, -0.38998439,  2.24947921],\n",
       "       [-0.92179769, -1.23446186, -1.11584092],\n",
       "       [-0.92179769,  2.04961719,  0.14974955],\n",
       "       [ 1.08483674, -0.76530771, -0.7994433 ],\n",
       "       [ 1.08483674,  0.17300059,  1.47286687],\n",
       "       [ 1.08483674, -1.42212352,  0.29356665],\n",
       "       [ 1.08483674, -0.76530771, -0.7994433 ],\n",
       "       [ 1.08483674, -0.20232273, -0.28170174],\n",
       "       [ 1.08483674,  1.01747806,  0.55243743],\n",
       "       [-0.92179769,  1.20513972, -0.77067988],\n",
       "       [-0.92179769, -0.85913854,  0.40862033],\n",
       "       [-0.92179769, -1.32829269, -0.6556262 ],\n",
       "       [-0.92179769,  0.8298164 , -1.11584092],\n",
       "       [ 1.08483674, -1.70361601, -0.02283096],\n",
       "       [ 1.08483674, -0.01466107, -0.45428226],\n",
       "       [-0.92179769, -1.42212352, -0.45428226],\n",
       "       [ 1.08483674, -0.67147688, -0.62686278],\n",
       "       [ 1.08483674,  0.45449308,  2.24947921],\n",
       "       [-0.92179769,  1.86195553, -1.28842144],\n",
       "       [ 1.08483674, -0.20232273, -0.9432604 ],\n",
       "       [-0.92179769, -1.0468002 ,  0.03469588],\n",
       "       [ 1.08483674, -1.0468002 , -1.57605564],\n",
       "       [-0.92179769, -0.01466107, -0.39675542],\n",
       "       [-0.92179769, -0.67147688, -0.25293832],\n",
       "       [ 1.08483674,  0.26683142,  0.20727639],\n",
       "       [-0.92179769, -1.70361601, -1.43223854],\n",
       "       [-0.92179769,  0.26683142, -0.31046516],\n",
       "       [ 1.08483674, -0.57764605,  0.09222272],\n",
       "       [-0.92179769, -0.38998439, -0.31046516],\n",
       "       [ 1.08483674,  0.73598557, -1.40347512],\n",
       "       [ 1.08483674, -1.23446186, -0.45428226],\n",
       "       [-0.92179769, -0.20232273, -0.39675542],\n",
       "       [ 1.08483674, -1.14063103,  0.55243743],\n",
       "       [-0.92179769, -1.32829269, -0.13788464],\n",
       "       [ 1.08483674, -0.1084919 ,  2.10566211],\n",
       "       [ 1.08483674, -0.20232273,  0.12098613],\n",
       "       [-0.92179769, -0.67147688,  0.23603981],\n",
       "       [-0.92179769, -1.23446186, -1.25965802],\n",
       "       [ 1.08483674, -0.1084919 ,  1.55915713],\n",
       "       [-0.92179769, -0.38998439, -0.85697014],\n",
       "       [ 1.08483674,  0.26683142, -0.16664806],\n",
       "       [-0.92179769,  0.92364723,  2.10566211],\n",
       "       [ 1.08483674, -1.23446186, -1.3747117 ],\n",
       "       [-0.92179769,  1.58046304,  1.07017899],\n",
       "       [ 1.08483674,  1.11130889,  0.49491059],\n",
       "       [-0.92179769, -0.01466107,  0.26480323],\n",
       "       [-0.92179769, -0.57764605, -1.60481906],\n",
       "       [-0.92179769, -0.38998439, -0.56933594],\n",
       "       [ 1.08483674,  0.07916976, -0.33922858],\n",
       "       [-0.92179769, -0.01466107,  0.26480323],\n",
       "       [-0.92179769, -0.29615356, -1.31718486],\n",
       "       [ 1.08483674, -1.14063103,  0.46614717],\n",
       "       [-0.92179769,  0.36066225,  0.26480323],\n",
       "       [ 1.08483674, -1.23446186,  0.37985691],\n",
       "       [-0.92179769,  0.36066225, -0.2241749 ],\n",
       "       [-0.92179769,  0.45449308,  0.12098613],\n",
       "       [-0.92179769, -0.85913854,  0.37985691],\n",
       "       [ 1.08483674, -0.67147688,  1.84679133],\n",
       "       [-0.92179769,  1.01747806,  1.93308159],\n",
       "       [-0.92179769,  1.20513972,  0.49491059],\n",
       "       [-0.92179769,  2.14344802, -0.71315304],\n",
       "       [ 1.08483674, -0.01466107,  0.23603981],\n",
       "       [-0.92179769,  0.8298164 ,  0.09222272],\n",
       "       [-0.92179769, -0.48381522,  2.27824263],\n",
       "       [ 1.08483674,  1.29897055, -1.3747117 ],\n",
       "       [ 1.08483674,  1.11130889,  0.09222272],\n",
       "       [-0.92179769,  2.04961719, -1.20213118],\n",
       "       [ 1.08483674,  2.04961719,  1.70297423],\n",
       "       [ 1.08483674, -0.01466107,  0.03469588],\n",
       "       [-0.92179769,  0.45449308, -0.02283096],\n",
       "       [-0.92179769,  0.92364723, -0.59809936],\n",
       "       [-0.92179769,  1.58046304, -1.28842144],\n",
       "       [-0.92179769, -1.0468002 , -0.54057252],\n",
       "       [ 1.08483674, -0.20232273,  1.07017899],\n",
       "       [ 1.08483674, -1.60978518,  0.09222272],\n",
       "       [-0.92179769,  0.36066225, -0.56933594],\n",
       "       [-0.92179769,  0.17300059, -0.28170174],\n",
       "       [-0.92179769,  1.48663221, -1.05831408],\n",
       "       [-0.92179769,  0.45449308,  0.26480323],\n",
       "       [-0.92179769,  1.01747806,  1.73173765],\n",
       "       [ 1.08483674, -0.1084919 , -0.31046516],\n",
       "       [ 1.08483674, -1.79744684,  0.32233007],\n",
       "       [-0.92179769, -0.48381522,  1.84679133],\n",
       "       [-0.92179769,  1.48663221,  0.95512531],\n",
       "       [-0.92179769,  0.45449308,  0.55243743],\n",
       "       [ 1.08483674, -1.51595435,  0.03469588],\n",
       "       [-0.92179769,  0.92364723,  1.04141557],\n",
       "       [ 1.08483674,  0.54832391,  1.67421081],\n",
       "       [ 1.08483674,  0.45449308,  0.95512531],\n",
       "       [-0.92179769,  0.73598557,  1.73173765],\n",
       "       [ 1.08483674,  0.45449308, -0.48304568],\n",
       "       [-0.92179769,  0.17300059, -0.33922858],\n",
       "       [-0.92179769, -0.57764605,  0.52367401],\n",
       "       [ 1.08483674,  0.17300059,  0.00593246],\n",
       "       [ 1.08483674,  1.01747806, -0.85697014],\n",
       "       [ 1.08483674,  0.36066225, -0.54057252],\n",
       "       [-0.92179769,  0.36066225, -1.17336776],\n",
       "       [ 1.08483674,  2.14344802, -0.82820672],\n",
       "       [ 1.08483674, -0.38998439, -1.14460434],\n",
       "       [-0.92179769, -0.48381522,  0.43738375],\n",
       "       [-0.92179769, -0.1084919 , -0.2241749 ],\n",
       "       [-0.92179769, -0.48381522,  1.32904977],\n",
       "       [-0.92179769,  0.92364723, -0.68438962],\n",
       "       [ 1.08483674, -0.20232273, -1.40347512],\n",
       "       [ 1.08483674, -0.20232273,  0.12098613],\n",
       "       [-0.92179769, -1.0468002 , -0.7994433 ],\n",
       "       [ 1.08483674, -1.14063103, -1.40347512],\n",
       "       [ 1.08483674,  1.11130889,  0.43738375],\n",
       "       [-0.92179769, -1.70361601, -1.28842144],\n",
       "       [ 1.08483674, -1.70361601, -1.31718486],\n",
       "       [ 1.08483674,  1.48663221,  0.03469588],\n",
       "       [-0.92179769, -0.1084919 ,  0.12098613],\n",
       "       [-0.92179769, -0.20232273, -0.77067988],\n",
       "       [-0.92179769, -0.20232273, -1.31718486],\n",
       "       [-0.92179769, -0.01466107,  0.63872769],\n",
       "       [-0.92179769, -0.57764605,  1.35781319],\n",
       "       [-0.92179769,  1.39280138, -1.43223854],\n",
       "       [-0.92179769,  0.17300059,  1.81802791],\n",
       "       [ 1.08483674,  0.07916976,  0.00593246],\n",
       "       [-0.92179769, -0.29615356, -0.7994433 ],\n",
       "       [-0.92179769, -0.01466107, -1.0870775 ],\n",
       "       [-0.92179769, -0.57764605,  0.00593246],\n",
       "       [-0.92179769,  0.8298164 ,  0.72501795],\n",
       "       [-0.92179769, -1.79744684,  0.43738375],\n",
       "       [ 1.08483674,  0.45449308,  0.0634593 ],\n",
       "       [ 1.08483674, -1.14063103,  0.23603981],\n",
       "       [ 1.08483674, -0.29615356,  1.27152293],\n",
       "       [-0.92179769,  1.29897055,  2.16318895],\n",
       "       [-0.92179769, -0.20232273, -0.16664806],\n",
       "       [-0.92179769, -0.38998439, -1.2308946 ],\n",
       "       [-0.92179769, -1.0468002 ,  0.26480323],\n",
       "       [-0.92179769, -1.32829269,  0.32233007],\n",
       "       [-0.92179769,  1.29897055,  1.81802791],\n",
       "       [-0.92179769, -0.76530771, -1.2308946 ],\n",
       "       [-0.92179769,  2.14344802,  1.07017899],\n",
       "       [ 1.08483674, -0.85913854,  0.23603981],\n",
       "       [-0.92179769,  1.39280138,  1.24275951],\n",
       "       [-0.92179769,  1.95578636,  0.86883505],\n",
       "       [-0.92179769,  0.36066225,  0.03469588],\n",
       "       [-0.92179769,  0.64215474, -0.91449698],\n",
       "       [-0.92179769,  0.07916976, -0.59809936],\n",
       "       [-0.92179769, -1.0468002 , -1.60481906],\n",
       "       [ 1.08483674, -1.70361601, -1.48976538],\n",
       "       [ 1.08483674, -0.57764605, -0.367992  ],\n",
       "       [ 1.08483674, -0.20232273,  0.49491059],\n",
       "       [ 1.08483674,  1.01747806,  2.01937185],\n",
       "       [ 1.08483674, -1.0468002 ,  0.29356665],\n",
       "       [ 1.08483674, -1.0468002 ,  0.26480323],\n",
       "       [-0.92179769,  1.01747806,  1.81802791],\n",
       "       [-0.92179769,  1.01747806, -1.02955066],\n",
       "       [ 1.08483674, -1.60978518, -0.62686278],\n",
       "       [ 1.08483674, -0.67147688,  0.52367401],\n",
       "       [ 1.08483674, -1.70361601,  0.14974955],\n",
       "       [ 1.08483674,  0.8298164 , -1.2308946 ],\n",
       "       [-0.92179769,  0.17300059,  0.23603981],\n",
       "       [ 1.08483674, -1.51595435,  0.49491059],\n",
       "       [-0.92179769, -1.0468002 , -1.02955066]])"
      ]
     },
     "execution_count": 14,
     "metadata": {},
     "output_type": "execute_result"
    }
   ],
   "source": [
    "x_train_scal"
   ]
  },
  {
   "cell_type": "code",
   "execution_count": 15,
   "id": "aa4e4f24",
   "metadata": {
    "scrolled": true
   },
   "outputs": [
    {
     "data": {
      "text/plain": [
       "array([[-0.92179769,  1.01747806,  1.38657661],\n",
       "       [ 1.08483674, -1.0468002 , -1.60481906],\n",
       "       [ 1.08483674, -0.20232273, -1.46100196],\n",
       "       [-0.92179769,  0.07916976,  1.18523267],\n",
       "       [-0.92179769, -1.60978518,  0.32233007],\n",
       "       [ 1.08483674,  1.58046304, -0.02283096],\n",
       "       [-0.92179769,  0.26683142,  0.12098613],\n",
       "       [ 1.08483674,  2.14344802,  0.89759847],\n",
       "       [-0.92179769,  2.04961719,  0.35109349],\n",
       "       [ 1.08483674, -0.1084919 , -1.0870775 ],\n",
       "       [ 1.08483674,  0.26683142, -0.39675542],\n",
       "       [ 1.08483674,  0.92364723,  0.98388873],\n",
       "       [ 1.08483674,  0.92364723, -1.31718486],\n",
       "       [ 1.08483674,  0.73598557,  0.23603981],\n",
       "       [ 1.08483674, -0.85913854,  1.50163029],\n",
       "       [ 1.08483674, -0.20232273, -0.59809936],\n",
       "       [ 1.08483674, -0.57764605,  0.14974955],\n",
       "       [-0.92179769,  0.8298164 , -1.40347512],\n",
       "       [ 1.08483674,  0.36066225, -0.54057252],\n",
       "       [ 1.08483674,  1.7681247 ,  1.78926449],\n",
       "       [ 1.08483674, -0.95296937,  0.55243743],\n",
       "       [ 1.08483674,  0.36066225,  0.46614717],\n",
       "       [ 1.08483674, -0.20232273, -0.91449698],\n",
       "       [-0.92179769,  0.64215474,  1.96184501],\n",
       "       [ 1.08483674, -0.67147688,  0.26480323],\n",
       "       [-0.92179769,  0.36066225,  0.03469588],\n",
       "       [ 1.08483674,  0.26683142,  1.04141557],\n",
       "       [-0.92179769,  0.73598557, -1.40347512],\n",
       "       [ 1.08483674, -1.0468002 , -1.11584092],\n",
       "       [-0.92179769,  1.95578636, -0.9432604 ],\n",
       "       [-0.92179769,  1.20513972, -1.00078724],\n",
       "       [ 1.08483674, -0.01466107, -0.5118091 ],\n",
       "       [-0.92179769,  1.11130889, -1.00078724],\n",
       "       [-0.92179769,  0.26683142,  0.03469588],\n",
       "       [ 1.08483674, -0.48381522, -1.5185288 ],\n",
       "       [-0.92179769,  0.54832391,  1.18523267],\n",
       "       [ 1.08483674,  1.39280138,  2.27824263],\n",
       "       [-0.92179769, -0.38998439,  1.21399609],\n",
       "       [ 1.08483674,  0.36066225,  0.23603981],\n",
       "       [ 1.08483674,  0.92364723, -1.46100196],\n",
       "       [ 1.08483674, -0.20232273, -0.33922858],\n",
       "       [ 1.08483674, -0.95296937,  0.52367401],\n",
       "       [-0.92179769, -0.20232273, -0.31046516],\n",
       "       [ 1.08483674, -1.14063103,  0.26480323],\n",
       "       [-0.92179769,  0.36066225,  0.03469588],\n",
       "       [ 1.08483674,  0.73598557, -1.28842144],\n",
       "       [-0.92179769, -0.29615356,  0.03469588],\n",
       "       [-0.92179769,  0.92364723, -0.62686278],\n",
       "       [ 1.08483674, -1.0468002 ,  0.43738375],\n",
       "       [ 1.08483674,  0.07916976, -0.28170174],\n",
       "       [ 1.08483674,  1.01747806, -1.0870775 ],\n",
       "       [ 1.08483674, -0.76530771,  0.26480323],\n",
       "       [-0.92179769, -1.60978518,  0.32233007],\n",
       "       [-0.92179769,  0.07916976, -0.45428226],\n",
       "       [ 1.08483674,  0.36066225, -0.33922858],\n",
       "       [ 1.08483674,  0.07916976,  0.00593246],\n",
       "       [ 1.08483674, -0.20232273, -0.5118091 ],\n",
       "       [-0.92179769,  0.17300059,  0.12098613],\n",
       "       [ 1.08483674, -0.29615356, -0.7994433 ],\n",
       "       [ 1.08483674,  0.26683142,  0.00593246],\n",
       "       [ 1.08483674, -0.38998439, -0.7994433 ],\n",
       "       [-0.92179769,  1.95578636, -0.68438962],\n",
       "       [-0.92179769,  0.17300059,  0.0634593 ],\n",
       "       [-0.92179769,  0.92364723, -0.56933594],\n",
       "       [ 1.08483674,  1.11130889, -1.2308946 ],\n",
       "       [-0.92179769, -0.76530771,  0.35109349],\n",
       "       [ 1.08483674, -0.01466107,  0.09222272],\n",
       "       [ 1.08483674,  0.07916976, -0.28170174],\n",
       "       [ 1.08483674, -0.20232273, -1.25965802],\n",
       "       [-0.92179769,  1.7681247 ,  0.95512531],\n",
       "       [-0.92179769, -0.20232273, -0.68438962],\n",
       "       [ 1.08483674, -1.23446186, -1.48976538],\n",
       "       [-0.92179769, -1.42212352, -0.2241749 ],\n",
       "       [ 1.08483674,  1.01747806, -1.0870775 ],\n",
       "       [ 1.08483674,  0.45449308, -0.19541148],\n",
       "       [ 1.08483674,  2.14344802, -0.82820672],\n",
       "       [ 1.08483674,  0.36066225, -0.74191646],\n",
       "       [ 1.08483674,  0.45449308, -0.16664806],\n",
       "       [-0.92179769,  0.45449308,  1.07017899],\n",
       "       [-0.92179769, -0.01466107, -0.25293832]])"
      ]
     },
     "execution_count": 15,
     "metadata": {},
     "output_type": "execute_result"
    }
   ],
   "source": [
    "x_test_scal"
   ]
  },
  {
   "cell_type": "code",
   "execution_count": 16,
   "id": "bcd1f615",
   "metadata": {},
   "outputs": [
    {
     "data": {
      "text/html": [
       "<div>\n",
       "<style scoped>\n",
       "    .dataframe tbody tr th:only-of-type {\n",
       "        vertical-align: middle;\n",
       "    }\n",
       "\n",
       "    .dataframe tbody tr th {\n",
       "        vertical-align: top;\n",
       "    }\n",
       "\n",
       "    .dataframe thead th {\n",
       "        text-align: right;\n",
       "    }\n",
       "</style>\n",
       "<table border=\"1\" class=\"dataframe\">\n",
       "  <thead>\n",
       "    <tr style=\"text-align: right;\">\n",
       "      <th></th>\n",
       "      <th>Gender</th>\n",
       "      <th>Age</th>\n",
       "      <th>EstimatedSalary</th>\n",
       "    </tr>\n",
       "  </thead>\n",
       "  <tbody>\n",
       "    <tr>\n",
       "      <th>331</th>\n",
       "      <td>0</td>\n",
       "      <td>48</td>\n",
       "      <td>119000</td>\n",
       "    </tr>\n",
       "    <tr>\n",
       "      <th>92</th>\n",
       "      <td>1</td>\n",
       "      <td>26</td>\n",
       "      <td>15000</td>\n",
       "    </tr>\n",
       "    <tr>\n",
       "      <th>1</th>\n",
       "      <td>1</td>\n",
       "      <td>35</td>\n",
       "      <td>20000</td>\n",
       "    </tr>\n",
       "    <tr>\n",
       "      <th>234</th>\n",
       "      <td>0</td>\n",
       "      <td>38</td>\n",
       "      <td>112000</td>\n",
       "    </tr>\n",
       "    <tr>\n",
       "      <th>136</th>\n",
       "      <td>0</td>\n",
       "      <td>20</td>\n",
       "      <td>82000</td>\n",
       "    </tr>\n",
       "    <tr>\n",
       "      <th>...</th>\n",
       "      <td>...</td>\n",
       "      <td>...</td>\n",
       "      <td>...</td>\n",
       "    </tr>\n",
       "    <tr>\n",
       "      <th>393</th>\n",
       "      <td>1</td>\n",
       "      <td>60</td>\n",
       "      <td>42000</td>\n",
       "    </tr>\n",
       "    <tr>\n",
       "      <th>151</th>\n",
       "      <td>1</td>\n",
       "      <td>41</td>\n",
       "      <td>45000</td>\n",
       "    </tr>\n",
       "    <tr>\n",
       "      <th>126</th>\n",
       "      <td>1</td>\n",
       "      <td>42</td>\n",
       "      <td>65000</td>\n",
       "    </tr>\n",
       "    <tr>\n",
       "      <th>265</th>\n",
       "      <td>0</td>\n",
       "      <td>42</td>\n",
       "      <td>108000</td>\n",
       "    </tr>\n",
       "    <tr>\n",
       "      <th>286</th>\n",
       "      <td>0</td>\n",
       "      <td>37</td>\n",
       "      <td>62000</td>\n",
       "    </tr>\n",
       "  </tbody>\n",
       "</table>\n",
       "<p>80 rows × 3 columns</p>\n",
       "</div>"
      ],
      "text/plain": [
       "     Gender  Age  EstimatedSalary\n",
       "331       0   48           119000\n",
       "92        1   26            15000\n",
       "1         1   35            20000\n",
       "234       0   38           112000\n",
       "136       0   20            82000\n",
       "..      ...  ...              ...\n",
       "393       1   60            42000\n",
       "151       1   41            45000\n",
       "126       1   42            65000\n",
       "265       0   42           108000\n",
       "286       0   37            62000\n",
       "\n",
       "[80 rows x 3 columns]"
      ]
     },
     "execution_count": 16,
     "metadata": {},
     "output_type": "execute_result"
    }
   ],
   "source": [
    "x_test"
   ]
  },
  {
   "cell_type": "markdown",
   "id": "1b057cb9",
   "metadata": {},
   "source": [
    "# modeling"
   ]
  },
  {
   "cell_type": "code",
   "execution_count": 17,
   "id": "c7fead01",
   "metadata": {},
   "outputs": [
    {
     "data": {
      "text/html": [
       "<style>#sk-container-id-1 {color: black;}#sk-container-id-1 pre{padding: 0;}#sk-container-id-1 div.sk-toggleable {background-color: white;}#sk-container-id-1 label.sk-toggleable__label {cursor: pointer;display: block;width: 100%;margin-bottom: 0;padding: 0.3em;box-sizing: border-box;text-align: center;}#sk-container-id-1 label.sk-toggleable__label-arrow:before {content: \"▸\";float: left;margin-right: 0.25em;color: #696969;}#sk-container-id-1 label.sk-toggleable__label-arrow:hover:before {color: black;}#sk-container-id-1 div.sk-estimator:hover label.sk-toggleable__label-arrow:before {color: black;}#sk-container-id-1 div.sk-toggleable__content {max-height: 0;max-width: 0;overflow: hidden;text-align: left;background-color: #f0f8ff;}#sk-container-id-1 div.sk-toggleable__content pre {margin: 0.2em;color: black;border-radius: 0.25em;background-color: #f0f8ff;}#sk-container-id-1 input.sk-toggleable__control:checked~div.sk-toggleable__content {max-height: 200px;max-width: 100%;overflow: auto;}#sk-container-id-1 input.sk-toggleable__control:checked~label.sk-toggleable__label-arrow:before {content: \"▾\";}#sk-container-id-1 div.sk-estimator input.sk-toggleable__control:checked~label.sk-toggleable__label {background-color: #d4ebff;}#sk-container-id-1 div.sk-label input.sk-toggleable__control:checked~label.sk-toggleable__label {background-color: #d4ebff;}#sk-container-id-1 input.sk-hidden--visually {border: 0;clip: rect(1px 1px 1px 1px);clip: rect(1px, 1px, 1px, 1px);height: 1px;margin: -1px;overflow: hidden;padding: 0;position: absolute;width: 1px;}#sk-container-id-1 div.sk-estimator {font-family: monospace;background-color: #f0f8ff;border: 1px dotted black;border-radius: 0.25em;box-sizing: border-box;margin-bottom: 0.5em;}#sk-container-id-1 div.sk-estimator:hover {background-color: #d4ebff;}#sk-container-id-1 div.sk-parallel-item::after {content: \"\";width: 100%;border-bottom: 1px solid gray;flex-grow: 1;}#sk-container-id-1 div.sk-label:hover label.sk-toggleable__label {background-color: #d4ebff;}#sk-container-id-1 div.sk-serial::before {content: \"\";position: absolute;border-left: 1px solid gray;box-sizing: border-box;top: 0;bottom: 0;left: 50%;z-index: 0;}#sk-container-id-1 div.sk-serial {display: flex;flex-direction: column;align-items: center;background-color: white;padding-right: 0.2em;padding-left: 0.2em;position: relative;}#sk-container-id-1 div.sk-item {position: relative;z-index: 1;}#sk-container-id-1 div.sk-parallel {display: flex;align-items: stretch;justify-content: center;background-color: white;position: relative;}#sk-container-id-1 div.sk-item::before, #sk-container-id-1 div.sk-parallel-item::before {content: \"\";position: absolute;border-left: 1px solid gray;box-sizing: border-box;top: 0;bottom: 0;left: 50%;z-index: -1;}#sk-container-id-1 div.sk-parallel-item {display: flex;flex-direction: column;z-index: 1;position: relative;background-color: white;}#sk-container-id-1 div.sk-parallel-item:first-child::after {align-self: flex-end;width: 50%;}#sk-container-id-1 div.sk-parallel-item:last-child::after {align-self: flex-start;width: 50%;}#sk-container-id-1 div.sk-parallel-item:only-child::after {width: 0;}#sk-container-id-1 div.sk-dashed-wrapped {border: 1px dashed gray;margin: 0 0.4em 0.5em 0.4em;box-sizing: border-box;padding-bottom: 0.4em;background-color: white;}#sk-container-id-1 div.sk-label label {font-family: monospace;font-weight: bold;display: inline-block;line-height: 1.2em;}#sk-container-id-1 div.sk-label-container {text-align: center;}#sk-container-id-1 div.sk-container {/* jupyter's `normalize.less` sets `[hidden] { display: none; }` but bootstrap.min.css set `[hidden] { display: none !important; }` so we also need the `!important` here to be able to override the default hidden behavior on the sphinx rendered scikit-learn.org. See: https://github.com/scikit-learn/scikit-learn/issues/21755 */display: inline-block !important;position: relative;}#sk-container-id-1 div.sk-text-repr-fallback {display: none;}</style><div id=\"sk-container-id-1\" class=\"sk-top-container\"><div class=\"sk-text-repr-fallback\"><pre>SVC()</pre><b>In a Jupyter environment, please rerun this cell to show the HTML representation or trust the notebook. <br />On GitHub, the HTML representation is unable to render, please try loading this page with nbviewer.org.</b></div><div class=\"sk-container\" hidden><div class=\"sk-item\"><div class=\"sk-estimator sk-toggleable\"><input class=\"sk-toggleable__control sk-hidden--visually\" id=\"sk-estimator-id-1\" type=\"checkbox\" checked><label for=\"sk-estimator-id-1\" class=\"sk-toggleable__label sk-toggleable__label-arrow\">SVC</label><div class=\"sk-toggleable__content\"><pre>SVC()</pre></div></div></div></div></div>"
      ],
      "text/plain": [
       "SVC()"
      ]
     },
     "execution_count": 17,
     "metadata": {},
     "output_type": "execute_result"
    }
   ],
   "source": [
    "model=SVC()\n",
    "model.fit(x_train_scal, y_train)"
   ]
  },
  {
   "cell_type": "code",
   "execution_count": 18,
   "id": "d044809b",
   "metadata": {},
   "outputs": [
    {
     "data": {
      "text/plain": [
       "0.909375"
      ]
     },
     "execution_count": 18,
     "metadata": {},
     "output_type": "execute_result"
    }
   ],
   "source": [
    "model.score(x_train_scal, y_train)"
   ]
  },
  {
   "cell_type": "code",
   "execution_count": 19,
   "id": "b49ae0a9",
   "metadata": {},
   "outputs": [
    {
     "data": {
      "text/plain": [
       "0.9125"
      ]
     },
     "execution_count": 19,
     "metadata": {},
     "output_type": "execute_result"
    }
   ],
   "source": [
    "model.score(x_test_scal, y_test)"
   ]
  },
  {
   "cell_type": "code",
   "execution_count": 20,
   "id": "edc2a8d0",
   "metadata": {},
   "outputs": [
    {
     "name": "stdout",
     "output_type": "stream",
     "text": [
      "Accuracy Score = 0.909375\n",
      "Confusion Matrix = \n",
      "[[189  17]\n",
      " [ 12 102]]\n",
      "Classification Report = \n",
      "               precision    recall  f1-score   support\n",
      "\n",
      "           0       0.94      0.92      0.93       206\n",
      "           1       0.86      0.89      0.88       114\n",
      "\n",
      "    accuracy                           0.91       320\n",
      "   macro avg       0.90      0.91      0.90       320\n",
      "weighted avg       0.91      0.91      0.91       320\n",
      "\n"
     ]
    }
   ],
   "source": [
    "### Training Data Evaluation \n",
    "y_pred = model.predict(x_train_scal)\n",
    "\n",
    "acc = accuracy_score(y_train,y_pred)\n",
    "print(f\"Accuracy Score = {acc}\")\n",
    "\n",
    "cnf_matrix = confusion_matrix(y_train,y_pred)\n",
    "print(f\"Confusion Matrix = \\n{cnf_matrix}\")\n",
    "\n",
    "clf = classification_report(y_train,y_pred)\n",
    "print(f\"Classification Report = \\n {clf}\")"
   ]
  },
  {
   "cell_type": "code",
   "execution_count": 21,
   "id": "74c9cd70",
   "metadata": {
    "scrolled": true
   },
   "outputs": [
    {
     "name": "stdout",
     "output_type": "stream",
     "text": [
      "Accuracy Score = 0.9125\n",
      "Confusion Matrix = \n",
      "[[46  5]\n",
      " [ 2 27]]\n",
      "Classification Report = \n",
      "               precision    recall  f1-score   support\n",
      "\n",
      "           0       0.96      0.90      0.93        51\n",
      "           1       0.84      0.93      0.89        29\n",
      "\n",
      "    accuracy                           0.91        80\n",
      "   macro avg       0.90      0.92      0.91        80\n",
      "weighted avg       0.92      0.91      0.91        80\n",
      "\n"
     ]
    }
   ],
   "source": [
    "### Testing Data Evaluation \n",
    "y_pred = model.predict(x_test_scal)\n",
    "\n",
    "acc = accuracy_score(y_test,y_pred)\n",
    "print(f\"Accuracy Score = {acc}\")\n",
    "\n",
    "cnf_matrix = confusion_matrix(y_test,y_pred)\n",
    "print(f\"Confusion Matrix = \\n{cnf_matrix}\")\n",
    "\n",
    "clf = classification_report(y_test,y_pred)\n",
    "print(f\"Classification Report = \\n {clf}\")"
   ]
  },
  {
   "cell_type": "markdown",
   "id": "07c2fde9",
   "metadata": {},
   "source": [
    "# hyper parameter"
   ]
  },
  {
   "cell_type": "code",
   "execution_count": 22,
   "id": "51c995c2",
   "metadata": {},
   "outputs": [
    {
     "data": {
      "text/html": [
       "<style>#sk-container-id-2 {color: black;}#sk-container-id-2 pre{padding: 0;}#sk-container-id-2 div.sk-toggleable {background-color: white;}#sk-container-id-2 label.sk-toggleable__label {cursor: pointer;display: block;width: 100%;margin-bottom: 0;padding: 0.3em;box-sizing: border-box;text-align: center;}#sk-container-id-2 label.sk-toggleable__label-arrow:before {content: \"▸\";float: left;margin-right: 0.25em;color: #696969;}#sk-container-id-2 label.sk-toggleable__label-arrow:hover:before {color: black;}#sk-container-id-2 div.sk-estimator:hover label.sk-toggleable__label-arrow:before {color: black;}#sk-container-id-2 div.sk-toggleable__content {max-height: 0;max-width: 0;overflow: hidden;text-align: left;background-color: #f0f8ff;}#sk-container-id-2 div.sk-toggleable__content pre {margin: 0.2em;color: black;border-radius: 0.25em;background-color: #f0f8ff;}#sk-container-id-2 input.sk-toggleable__control:checked~div.sk-toggleable__content {max-height: 200px;max-width: 100%;overflow: auto;}#sk-container-id-2 input.sk-toggleable__control:checked~label.sk-toggleable__label-arrow:before {content: \"▾\";}#sk-container-id-2 div.sk-estimator input.sk-toggleable__control:checked~label.sk-toggleable__label {background-color: #d4ebff;}#sk-container-id-2 div.sk-label input.sk-toggleable__control:checked~label.sk-toggleable__label {background-color: #d4ebff;}#sk-container-id-2 input.sk-hidden--visually {border: 0;clip: rect(1px 1px 1px 1px);clip: rect(1px, 1px, 1px, 1px);height: 1px;margin: -1px;overflow: hidden;padding: 0;position: absolute;width: 1px;}#sk-container-id-2 div.sk-estimator {font-family: monospace;background-color: #f0f8ff;border: 1px dotted black;border-radius: 0.25em;box-sizing: border-box;margin-bottom: 0.5em;}#sk-container-id-2 div.sk-estimator:hover {background-color: #d4ebff;}#sk-container-id-2 div.sk-parallel-item::after {content: \"\";width: 100%;border-bottom: 1px solid gray;flex-grow: 1;}#sk-container-id-2 div.sk-label:hover label.sk-toggleable__label {background-color: #d4ebff;}#sk-container-id-2 div.sk-serial::before {content: \"\";position: absolute;border-left: 1px solid gray;box-sizing: border-box;top: 0;bottom: 0;left: 50%;z-index: 0;}#sk-container-id-2 div.sk-serial {display: flex;flex-direction: column;align-items: center;background-color: white;padding-right: 0.2em;padding-left: 0.2em;position: relative;}#sk-container-id-2 div.sk-item {position: relative;z-index: 1;}#sk-container-id-2 div.sk-parallel {display: flex;align-items: stretch;justify-content: center;background-color: white;position: relative;}#sk-container-id-2 div.sk-item::before, #sk-container-id-2 div.sk-parallel-item::before {content: \"\";position: absolute;border-left: 1px solid gray;box-sizing: border-box;top: 0;bottom: 0;left: 50%;z-index: -1;}#sk-container-id-2 div.sk-parallel-item {display: flex;flex-direction: column;z-index: 1;position: relative;background-color: white;}#sk-container-id-2 div.sk-parallel-item:first-child::after {align-self: flex-end;width: 50%;}#sk-container-id-2 div.sk-parallel-item:last-child::after {align-self: flex-start;width: 50%;}#sk-container-id-2 div.sk-parallel-item:only-child::after {width: 0;}#sk-container-id-2 div.sk-dashed-wrapped {border: 1px dashed gray;margin: 0 0.4em 0.5em 0.4em;box-sizing: border-box;padding-bottom: 0.4em;background-color: white;}#sk-container-id-2 div.sk-label label {font-family: monospace;font-weight: bold;display: inline-block;line-height: 1.2em;}#sk-container-id-2 div.sk-label-container {text-align: center;}#sk-container-id-2 div.sk-container {/* jupyter's `normalize.less` sets `[hidden] { display: none; }` but bootstrap.min.css set `[hidden] { display: none !important; }` so we also need the `!important` here to be able to override the default hidden behavior on the sphinx rendered scikit-learn.org. See: https://github.com/scikit-learn/scikit-learn/issues/21755 */display: inline-block !important;position: relative;}#sk-container-id-2 div.sk-text-repr-fallback {display: none;}</style><div id=\"sk-container-id-2\" class=\"sk-top-container\"><div class=\"sk-text-repr-fallback\"><pre>RandomizedSearchCV(cv=5, estimator=SVC(),\n",
       "                   param_distributions={&#x27;C&#x27;: array([1, 2, 3, 4, 5, 6, 7, 8, 9]),\n",
       "                                        &#x27;kernel&#x27;: [&#x27;linear&#x27;, &#x27;poly&#x27;, &#x27;rbf&#x27;,\n",
       "                                                   &#x27;sigmoid&#x27;]})</pre><b>In a Jupyter environment, please rerun this cell to show the HTML representation or trust the notebook. <br />On GitHub, the HTML representation is unable to render, please try loading this page with nbviewer.org.</b></div><div class=\"sk-container\" hidden><div class=\"sk-item sk-dashed-wrapped\"><div class=\"sk-label-container\"><div class=\"sk-label sk-toggleable\"><input class=\"sk-toggleable__control sk-hidden--visually\" id=\"sk-estimator-id-2\" type=\"checkbox\" ><label for=\"sk-estimator-id-2\" class=\"sk-toggleable__label sk-toggleable__label-arrow\">RandomizedSearchCV</label><div class=\"sk-toggleable__content\"><pre>RandomizedSearchCV(cv=5, estimator=SVC(),\n",
       "                   param_distributions={&#x27;C&#x27;: array([1, 2, 3, 4, 5, 6, 7, 8, 9]),\n",
       "                                        &#x27;kernel&#x27;: [&#x27;linear&#x27;, &#x27;poly&#x27;, &#x27;rbf&#x27;,\n",
       "                                                   &#x27;sigmoid&#x27;]})</pre></div></div></div><div class=\"sk-parallel\"><div class=\"sk-parallel-item\"><div class=\"sk-item\"><div class=\"sk-label-container\"><div class=\"sk-label sk-toggleable\"><input class=\"sk-toggleable__control sk-hidden--visually\" id=\"sk-estimator-id-3\" type=\"checkbox\" ><label for=\"sk-estimator-id-3\" class=\"sk-toggleable__label sk-toggleable__label-arrow\">estimator: SVC</label><div class=\"sk-toggleable__content\"><pre>SVC()</pre></div></div></div><div class=\"sk-serial\"><div class=\"sk-item\"><div class=\"sk-estimator sk-toggleable\"><input class=\"sk-toggleable__control sk-hidden--visually\" id=\"sk-estimator-id-4\" type=\"checkbox\" ><label for=\"sk-estimator-id-4\" class=\"sk-toggleable__label sk-toggleable__label-arrow\">SVC</label><div class=\"sk-toggleable__content\"><pre>SVC()</pre></div></div></div></div></div></div></div></div></div></div>"
      ],
      "text/plain": [
       "RandomizedSearchCV(cv=5, estimator=SVC(),\n",
       "                   param_distributions={'C': array([1, 2, 3, 4, 5, 6, 7, 8, 9]),\n",
       "                                        'kernel': ['linear', 'poly', 'rbf',\n",
       "                                                   'sigmoid']})"
      ]
     },
     "execution_count": 22,
     "metadata": {},
     "output_type": "execute_result"
    }
   ],
   "source": [
    "model=SVC()\n",
    "hyper={ 'C':np.arange(1,10),\n",
    "      'kernel':['linear', 'poly', 'rbf', 'sigmoid']}  # C>  Regulozation parameter > penalty added\n",
    "rscv=RandomizedSearchCV(model, hyper, cv=5)\n",
    "rscv.fit(x_train_scal, y_train)"
   ]
  },
  {
   "cell_type": "code",
   "execution_count": 23,
   "id": "c21f961d",
   "metadata": {},
   "outputs": [
    {
     "name": "stdout",
     "output_type": "stream",
     "text": [
      "Accuracy Score = 0.9125\n",
      "Confusion Matrix = \n",
      "[[189  17]\n",
      " [ 11 103]]\n",
      "Classification Report = \n",
      "               precision    recall  f1-score   support\n",
      "\n",
      "           0       0.94      0.92      0.93       206\n",
      "           1       0.86      0.90      0.88       114\n",
      "\n",
      "    accuracy                           0.91       320\n",
      "   macro avg       0.90      0.91      0.91       320\n",
      "weighted avg       0.91      0.91      0.91       320\n",
      "\n"
     ]
    }
   ],
   "source": [
    "### Training Data Evaluation \n",
    "y_pred = rscv.predict(x_train_scal)\n",
    "\n",
    "acc = accuracy_score(y_train,y_pred)\n",
    "print(f\"Accuracy Score = {acc}\")\n",
    "\n",
    "cnf_matrix = confusion_matrix(y_train,y_pred)\n",
    "print(f\"Confusion Matrix = \\n{cnf_matrix}\")\n",
    "\n",
    "clf = classification_report(y_train,y_pred)\n",
    "print(f\"Classification Report = \\n {clf}\")"
   ]
  },
  {
   "cell_type": "code",
   "execution_count": 24,
   "id": "46f58a73",
   "metadata": {},
   "outputs": [
    {
     "name": "stdout",
     "output_type": "stream",
     "text": [
      "Accuracy Score = 0.9\n",
      "Confusion Matrix = \n",
      "[[46  5]\n",
      " [ 3 26]]\n",
      "Classification Report = \n",
      "               precision    recall  f1-score   support\n",
      "\n",
      "           0       0.94      0.90      0.92        51\n",
      "           1       0.84      0.90      0.87        29\n",
      "\n",
      "    accuracy                           0.90        80\n",
      "   macro avg       0.89      0.90      0.89        80\n",
      "weighted avg       0.90      0.90      0.90        80\n",
      "\n"
     ]
    }
   ],
   "source": [
    "### Testing Data Evaluation \n",
    "y_pred = rscv.predict(x_test_scal)\n",
    "\n",
    "acc = accuracy_score(y_test,y_pred)\n",
    "print(f\"Accuracy Score = {acc}\")\n",
    "\n",
    "cnf_matrix = confusion_matrix(y_test,y_pred)\n",
    "print(f\"Confusion Matrix = \\n{cnf_matrix}\")\n",
    "\n",
    "clf = classification_report(y_test,y_pred)\n",
    "print(f\"Classification Report = \\n {clf}\")"
   ]
  },
  {
   "cell_type": "code",
   "execution_count": null,
   "id": "81498cc9",
   "metadata": {},
   "outputs": [],
   "source": []
  },
  {
   "cell_type": "code",
   "execution_count": null,
   "id": "c1c8b8c2",
   "metadata": {},
   "outputs": [],
   "source": []
  },
  {
   "cell_type": "markdown",
   "id": "fde59016",
   "metadata": {},
   "source": [
    "# scaling by Normalization"
   ]
  },
  {
   "cell_type": "code",
   "execution_count": 25,
   "id": "56255e14",
   "metadata": {},
   "outputs": [],
   "source": [
    "nor_scaler=MaxAbsScaler()\n",
    "x_train_nor=nor_scaler.fit_transform(x_train)\n",
    "x_test_nor= nor_scaler.transform(x_test)"
   ]
  },
  {
   "cell_type": "code",
   "execution_count": 26,
   "id": "574883fa",
   "metadata": {},
   "outputs": [
    {
     "data": {
      "text/html": [
       "<style>#sk-container-id-3 {color: black;}#sk-container-id-3 pre{padding: 0;}#sk-container-id-3 div.sk-toggleable {background-color: white;}#sk-container-id-3 label.sk-toggleable__label {cursor: pointer;display: block;width: 100%;margin-bottom: 0;padding: 0.3em;box-sizing: border-box;text-align: center;}#sk-container-id-3 label.sk-toggleable__label-arrow:before {content: \"▸\";float: left;margin-right: 0.25em;color: #696969;}#sk-container-id-3 label.sk-toggleable__label-arrow:hover:before {color: black;}#sk-container-id-3 div.sk-estimator:hover label.sk-toggleable__label-arrow:before {color: black;}#sk-container-id-3 div.sk-toggleable__content {max-height: 0;max-width: 0;overflow: hidden;text-align: left;background-color: #f0f8ff;}#sk-container-id-3 div.sk-toggleable__content pre {margin: 0.2em;color: black;border-radius: 0.25em;background-color: #f0f8ff;}#sk-container-id-3 input.sk-toggleable__control:checked~div.sk-toggleable__content {max-height: 200px;max-width: 100%;overflow: auto;}#sk-container-id-3 input.sk-toggleable__control:checked~label.sk-toggleable__label-arrow:before {content: \"▾\";}#sk-container-id-3 div.sk-estimator input.sk-toggleable__control:checked~label.sk-toggleable__label {background-color: #d4ebff;}#sk-container-id-3 div.sk-label input.sk-toggleable__control:checked~label.sk-toggleable__label {background-color: #d4ebff;}#sk-container-id-3 input.sk-hidden--visually {border: 0;clip: rect(1px 1px 1px 1px);clip: rect(1px, 1px, 1px, 1px);height: 1px;margin: -1px;overflow: hidden;padding: 0;position: absolute;width: 1px;}#sk-container-id-3 div.sk-estimator {font-family: monospace;background-color: #f0f8ff;border: 1px dotted black;border-radius: 0.25em;box-sizing: border-box;margin-bottom: 0.5em;}#sk-container-id-3 div.sk-estimator:hover {background-color: #d4ebff;}#sk-container-id-3 div.sk-parallel-item::after {content: \"\";width: 100%;border-bottom: 1px solid gray;flex-grow: 1;}#sk-container-id-3 div.sk-label:hover label.sk-toggleable__label {background-color: #d4ebff;}#sk-container-id-3 div.sk-serial::before {content: \"\";position: absolute;border-left: 1px solid gray;box-sizing: border-box;top: 0;bottom: 0;left: 50%;z-index: 0;}#sk-container-id-3 div.sk-serial {display: flex;flex-direction: column;align-items: center;background-color: white;padding-right: 0.2em;padding-left: 0.2em;position: relative;}#sk-container-id-3 div.sk-item {position: relative;z-index: 1;}#sk-container-id-3 div.sk-parallel {display: flex;align-items: stretch;justify-content: center;background-color: white;position: relative;}#sk-container-id-3 div.sk-item::before, #sk-container-id-3 div.sk-parallel-item::before {content: \"\";position: absolute;border-left: 1px solid gray;box-sizing: border-box;top: 0;bottom: 0;left: 50%;z-index: -1;}#sk-container-id-3 div.sk-parallel-item {display: flex;flex-direction: column;z-index: 1;position: relative;background-color: white;}#sk-container-id-3 div.sk-parallel-item:first-child::after {align-self: flex-end;width: 50%;}#sk-container-id-3 div.sk-parallel-item:last-child::after {align-self: flex-start;width: 50%;}#sk-container-id-3 div.sk-parallel-item:only-child::after {width: 0;}#sk-container-id-3 div.sk-dashed-wrapped {border: 1px dashed gray;margin: 0 0.4em 0.5em 0.4em;box-sizing: border-box;padding-bottom: 0.4em;background-color: white;}#sk-container-id-3 div.sk-label label {font-family: monospace;font-weight: bold;display: inline-block;line-height: 1.2em;}#sk-container-id-3 div.sk-label-container {text-align: center;}#sk-container-id-3 div.sk-container {/* jupyter's `normalize.less` sets `[hidden] { display: none; }` but bootstrap.min.css set `[hidden] { display: none !important; }` so we also need the `!important` here to be able to override the default hidden behavior on the sphinx rendered scikit-learn.org. See: https://github.com/scikit-learn/scikit-learn/issues/21755 */display: inline-block !important;position: relative;}#sk-container-id-3 div.sk-text-repr-fallback {display: none;}</style><div id=\"sk-container-id-3\" class=\"sk-top-container\"><div class=\"sk-text-repr-fallback\"><pre>SVC()</pre><b>In a Jupyter environment, please rerun this cell to show the HTML representation or trust the notebook. <br />On GitHub, the HTML representation is unable to render, please try loading this page with nbviewer.org.</b></div><div class=\"sk-container\" hidden><div class=\"sk-item\"><div class=\"sk-estimator sk-toggleable\"><input class=\"sk-toggleable__control sk-hidden--visually\" id=\"sk-estimator-id-5\" type=\"checkbox\" checked><label for=\"sk-estimator-id-5\" class=\"sk-toggleable__label sk-toggleable__label-arrow\">SVC</label><div class=\"sk-toggleable__content\"><pre>SVC()</pre></div></div></div></div></div>"
      ],
      "text/plain": [
       "SVC()"
      ]
     },
     "execution_count": 26,
     "metadata": {},
     "output_type": "execute_result"
    }
   ],
   "source": [
    "model_svm=SVC()\n",
    "model_svm.fit(x_train_nor, y_train)"
   ]
  },
  {
   "cell_type": "code",
   "execution_count": 27,
   "id": "d035fa17",
   "metadata": {},
   "outputs": [
    {
     "data": {
      "text/plain": [
       "0.90625"
      ]
     },
     "execution_count": 27,
     "metadata": {},
     "output_type": "execute_result"
    }
   ],
   "source": [
    "model_svm.score(x_train_nor, y_train)"
   ]
  },
  {
   "cell_type": "code",
   "execution_count": 28,
   "id": "b3cc83eb",
   "metadata": {},
   "outputs": [
    {
     "data": {
      "text/plain": [
       "0.875"
      ]
     },
     "execution_count": 28,
     "metadata": {},
     "output_type": "execute_result"
    }
   ],
   "source": [
    "model_svm.score(x_test_nor, y_test)"
   ]
  },
  {
   "cell_type": "code",
   "execution_count": 29,
   "id": "62cd445d",
   "metadata": {},
   "outputs": [
    {
     "name": "stdout",
     "output_type": "stream",
     "text": [
      "Accuracy Score = 0.90625\n",
      "Confusion Matrix = \n",
      "[[191  15]\n",
      " [ 15  99]]\n",
      "Classification Report = \n",
      "               precision    recall  f1-score   support\n",
      "\n",
      "           0       0.93      0.93      0.93       206\n",
      "           1       0.87      0.87      0.87       114\n",
      "\n",
      "    accuracy                           0.91       320\n",
      "   macro avg       0.90      0.90      0.90       320\n",
      "weighted avg       0.91      0.91      0.91       320\n",
      "\n"
     ]
    }
   ],
   "source": [
    "### Training Data Evaluation \n",
    "y_pred = model_svm.predict(x_train_nor)\n",
    "\n",
    "acc = accuracy_score(y_train,y_pred)\n",
    "print(f\"Accuracy Score = {acc}\")\n",
    "\n",
    "cnf_matrix = confusion_matrix(y_train,y_pred)\n",
    "print(f\"Confusion Matrix = \\n{cnf_matrix}\")\n",
    "\n",
    "clf = classification_report(y_train,y_pred)\n",
    "print(f\"Classification Report = \\n {clf}\")"
   ]
  },
  {
   "cell_type": "code",
   "execution_count": 30,
   "id": "12f9237c",
   "metadata": {},
   "outputs": [
    {
     "name": "stdout",
     "output_type": "stream",
     "text": [
      "Accuracy Score = 0.875\n",
      "Confusion Matrix = \n",
      "[[46  5]\n",
      " [ 5 24]]\n",
      "Classification Report = \n",
      "               precision    recall  f1-score   support\n",
      "\n",
      "           0       0.90      0.90      0.90        51\n",
      "           1       0.83      0.83      0.83        29\n",
      "\n",
      "    accuracy                           0.88        80\n",
      "   macro avg       0.86      0.86      0.86        80\n",
      "weighted avg       0.88      0.88      0.88        80\n",
      "\n"
     ]
    }
   ],
   "source": [
    "### Testing Data Evaluation \n",
    "y_pred = model_svm.predict(x_test_nor)\n",
    "\n",
    "acc = accuracy_score(y_test,y_pred)\n",
    "print(f\"Accuracy Score = {acc}\")\n",
    "\n",
    "cnf_matrix = confusion_matrix(y_test,y_pred)\n",
    "print(f\"Confusion Matrix = \\n{cnf_matrix}\")\n",
    "\n",
    "clf = classification_report(y_test,y_pred)\n",
    "print(f\"Classification Report = \\n {clf}\")"
   ]
  },
  {
   "cell_type": "markdown",
   "id": "eb0b78db",
   "metadata": {},
   "source": [
    "#  hyper parameter"
   ]
  },
  {
   "cell_type": "code",
   "execution_count": 31,
   "id": "005c802a",
   "metadata": {},
   "outputs": [
    {
     "data": {
      "text/html": [
       "<style>#sk-container-id-4 {color: black;}#sk-container-id-4 pre{padding: 0;}#sk-container-id-4 div.sk-toggleable {background-color: white;}#sk-container-id-4 label.sk-toggleable__label {cursor: pointer;display: block;width: 100%;margin-bottom: 0;padding: 0.3em;box-sizing: border-box;text-align: center;}#sk-container-id-4 label.sk-toggleable__label-arrow:before {content: \"▸\";float: left;margin-right: 0.25em;color: #696969;}#sk-container-id-4 label.sk-toggleable__label-arrow:hover:before {color: black;}#sk-container-id-4 div.sk-estimator:hover label.sk-toggleable__label-arrow:before {color: black;}#sk-container-id-4 div.sk-toggleable__content {max-height: 0;max-width: 0;overflow: hidden;text-align: left;background-color: #f0f8ff;}#sk-container-id-4 div.sk-toggleable__content pre {margin: 0.2em;color: black;border-radius: 0.25em;background-color: #f0f8ff;}#sk-container-id-4 input.sk-toggleable__control:checked~div.sk-toggleable__content {max-height: 200px;max-width: 100%;overflow: auto;}#sk-container-id-4 input.sk-toggleable__control:checked~label.sk-toggleable__label-arrow:before {content: \"▾\";}#sk-container-id-4 div.sk-estimator input.sk-toggleable__control:checked~label.sk-toggleable__label {background-color: #d4ebff;}#sk-container-id-4 div.sk-label input.sk-toggleable__control:checked~label.sk-toggleable__label {background-color: #d4ebff;}#sk-container-id-4 input.sk-hidden--visually {border: 0;clip: rect(1px 1px 1px 1px);clip: rect(1px, 1px, 1px, 1px);height: 1px;margin: -1px;overflow: hidden;padding: 0;position: absolute;width: 1px;}#sk-container-id-4 div.sk-estimator {font-family: monospace;background-color: #f0f8ff;border: 1px dotted black;border-radius: 0.25em;box-sizing: border-box;margin-bottom: 0.5em;}#sk-container-id-4 div.sk-estimator:hover {background-color: #d4ebff;}#sk-container-id-4 div.sk-parallel-item::after {content: \"\";width: 100%;border-bottom: 1px solid gray;flex-grow: 1;}#sk-container-id-4 div.sk-label:hover label.sk-toggleable__label {background-color: #d4ebff;}#sk-container-id-4 div.sk-serial::before {content: \"\";position: absolute;border-left: 1px solid gray;box-sizing: border-box;top: 0;bottom: 0;left: 50%;z-index: 0;}#sk-container-id-4 div.sk-serial {display: flex;flex-direction: column;align-items: center;background-color: white;padding-right: 0.2em;padding-left: 0.2em;position: relative;}#sk-container-id-4 div.sk-item {position: relative;z-index: 1;}#sk-container-id-4 div.sk-parallel {display: flex;align-items: stretch;justify-content: center;background-color: white;position: relative;}#sk-container-id-4 div.sk-item::before, #sk-container-id-4 div.sk-parallel-item::before {content: \"\";position: absolute;border-left: 1px solid gray;box-sizing: border-box;top: 0;bottom: 0;left: 50%;z-index: -1;}#sk-container-id-4 div.sk-parallel-item {display: flex;flex-direction: column;z-index: 1;position: relative;background-color: white;}#sk-container-id-4 div.sk-parallel-item:first-child::after {align-self: flex-end;width: 50%;}#sk-container-id-4 div.sk-parallel-item:last-child::after {align-self: flex-start;width: 50%;}#sk-container-id-4 div.sk-parallel-item:only-child::after {width: 0;}#sk-container-id-4 div.sk-dashed-wrapped {border: 1px dashed gray;margin: 0 0.4em 0.5em 0.4em;box-sizing: border-box;padding-bottom: 0.4em;background-color: white;}#sk-container-id-4 div.sk-label label {font-family: monospace;font-weight: bold;display: inline-block;line-height: 1.2em;}#sk-container-id-4 div.sk-label-container {text-align: center;}#sk-container-id-4 div.sk-container {/* jupyter's `normalize.less` sets `[hidden] { display: none; }` but bootstrap.min.css set `[hidden] { display: none !important; }` so we also need the `!important` here to be able to override the default hidden behavior on the sphinx rendered scikit-learn.org. See: https://github.com/scikit-learn/scikit-learn/issues/21755 */display: inline-block !important;position: relative;}#sk-container-id-4 div.sk-text-repr-fallback {display: none;}</style><div id=\"sk-container-id-4\" class=\"sk-top-container\"><div class=\"sk-text-repr-fallback\"><pre>RandomizedSearchCV(cv=5, estimator=SVC(),\n",
       "                   param_distributions={&#x27;C&#x27;: array([1, 2, 3, 4, 5, 6, 7, 8, 9]),\n",
       "                                        &#x27;kernel&#x27;: [&#x27;linear&#x27;, &#x27;poly&#x27;, &#x27;rbf&#x27;,\n",
       "                                                   &#x27;sigmoid&#x27;]})</pre><b>In a Jupyter environment, please rerun this cell to show the HTML representation or trust the notebook. <br />On GitHub, the HTML representation is unable to render, please try loading this page with nbviewer.org.</b></div><div class=\"sk-container\" hidden><div class=\"sk-item sk-dashed-wrapped\"><div class=\"sk-label-container\"><div class=\"sk-label sk-toggleable\"><input class=\"sk-toggleable__control sk-hidden--visually\" id=\"sk-estimator-id-6\" type=\"checkbox\" ><label for=\"sk-estimator-id-6\" class=\"sk-toggleable__label sk-toggleable__label-arrow\">RandomizedSearchCV</label><div class=\"sk-toggleable__content\"><pre>RandomizedSearchCV(cv=5, estimator=SVC(),\n",
       "                   param_distributions={&#x27;C&#x27;: array([1, 2, 3, 4, 5, 6, 7, 8, 9]),\n",
       "                                        &#x27;kernel&#x27;: [&#x27;linear&#x27;, &#x27;poly&#x27;, &#x27;rbf&#x27;,\n",
       "                                                   &#x27;sigmoid&#x27;]})</pre></div></div></div><div class=\"sk-parallel\"><div class=\"sk-parallel-item\"><div class=\"sk-item\"><div class=\"sk-label-container\"><div class=\"sk-label sk-toggleable\"><input class=\"sk-toggleable__control sk-hidden--visually\" id=\"sk-estimator-id-7\" type=\"checkbox\" ><label for=\"sk-estimator-id-7\" class=\"sk-toggleable__label sk-toggleable__label-arrow\">estimator: SVC</label><div class=\"sk-toggleable__content\"><pre>SVC()</pre></div></div></div><div class=\"sk-serial\"><div class=\"sk-item\"><div class=\"sk-estimator sk-toggleable\"><input class=\"sk-toggleable__control sk-hidden--visually\" id=\"sk-estimator-id-8\" type=\"checkbox\" ><label for=\"sk-estimator-id-8\" class=\"sk-toggleable__label sk-toggleable__label-arrow\">SVC</label><div class=\"sk-toggleable__content\"><pre>SVC()</pre></div></div></div></div></div></div></div></div></div></div>"
      ],
      "text/plain": [
       "RandomizedSearchCV(cv=5, estimator=SVC(),\n",
       "                   param_distributions={'C': array([1, 2, 3, 4, 5, 6, 7, 8, 9]),\n",
       "                                        'kernel': ['linear', 'poly', 'rbf',\n",
       "                                                   'sigmoid']})"
      ]
     },
     "execution_count": 31,
     "metadata": {},
     "output_type": "execute_result"
    }
   ],
   "source": [
    "model_svm=SVC()\n",
    "hyper={ 'C':np.arange(1,10),\n",
    "      'kernel':['linear', 'poly', 'rbf', 'sigmoid']}  # C>  Regulozation parameter > penalty added\n",
    "rscv=RandomizedSearchCV(model_svm, hyper, cv=5)\n",
    "rscv.fit(x_train_nor, y_train)"
   ]
  },
  {
   "cell_type": "code",
   "execution_count": 32,
   "id": "fb1e49ba",
   "metadata": {},
   "outputs": [
    {
     "data": {
      "text/html": [
       "<style>#sk-container-id-5 {color: black;}#sk-container-id-5 pre{padding: 0;}#sk-container-id-5 div.sk-toggleable {background-color: white;}#sk-container-id-5 label.sk-toggleable__label {cursor: pointer;display: block;width: 100%;margin-bottom: 0;padding: 0.3em;box-sizing: border-box;text-align: center;}#sk-container-id-5 label.sk-toggleable__label-arrow:before {content: \"▸\";float: left;margin-right: 0.25em;color: #696969;}#sk-container-id-5 label.sk-toggleable__label-arrow:hover:before {color: black;}#sk-container-id-5 div.sk-estimator:hover label.sk-toggleable__label-arrow:before {color: black;}#sk-container-id-5 div.sk-toggleable__content {max-height: 0;max-width: 0;overflow: hidden;text-align: left;background-color: #f0f8ff;}#sk-container-id-5 div.sk-toggleable__content pre {margin: 0.2em;color: black;border-radius: 0.25em;background-color: #f0f8ff;}#sk-container-id-5 input.sk-toggleable__control:checked~div.sk-toggleable__content {max-height: 200px;max-width: 100%;overflow: auto;}#sk-container-id-5 input.sk-toggleable__control:checked~label.sk-toggleable__label-arrow:before {content: \"▾\";}#sk-container-id-5 div.sk-estimator input.sk-toggleable__control:checked~label.sk-toggleable__label {background-color: #d4ebff;}#sk-container-id-5 div.sk-label input.sk-toggleable__control:checked~label.sk-toggleable__label {background-color: #d4ebff;}#sk-container-id-5 input.sk-hidden--visually {border: 0;clip: rect(1px 1px 1px 1px);clip: rect(1px, 1px, 1px, 1px);height: 1px;margin: -1px;overflow: hidden;padding: 0;position: absolute;width: 1px;}#sk-container-id-5 div.sk-estimator {font-family: monospace;background-color: #f0f8ff;border: 1px dotted black;border-radius: 0.25em;box-sizing: border-box;margin-bottom: 0.5em;}#sk-container-id-5 div.sk-estimator:hover {background-color: #d4ebff;}#sk-container-id-5 div.sk-parallel-item::after {content: \"\";width: 100%;border-bottom: 1px solid gray;flex-grow: 1;}#sk-container-id-5 div.sk-label:hover label.sk-toggleable__label {background-color: #d4ebff;}#sk-container-id-5 div.sk-serial::before {content: \"\";position: absolute;border-left: 1px solid gray;box-sizing: border-box;top: 0;bottom: 0;left: 50%;z-index: 0;}#sk-container-id-5 div.sk-serial {display: flex;flex-direction: column;align-items: center;background-color: white;padding-right: 0.2em;padding-left: 0.2em;position: relative;}#sk-container-id-5 div.sk-item {position: relative;z-index: 1;}#sk-container-id-5 div.sk-parallel {display: flex;align-items: stretch;justify-content: center;background-color: white;position: relative;}#sk-container-id-5 div.sk-item::before, #sk-container-id-5 div.sk-parallel-item::before {content: \"\";position: absolute;border-left: 1px solid gray;box-sizing: border-box;top: 0;bottom: 0;left: 50%;z-index: -1;}#sk-container-id-5 div.sk-parallel-item {display: flex;flex-direction: column;z-index: 1;position: relative;background-color: white;}#sk-container-id-5 div.sk-parallel-item:first-child::after {align-self: flex-end;width: 50%;}#sk-container-id-5 div.sk-parallel-item:last-child::after {align-self: flex-start;width: 50%;}#sk-container-id-5 div.sk-parallel-item:only-child::after {width: 0;}#sk-container-id-5 div.sk-dashed-wrapped {border: 1px dashed gray;margin: 0 0.4em 0.5em 0.4em;box-sizing: border-box;padding-bottom: 0.4em;background-color: white;}#sk-container-id-5 div.sk-label label {font-family: monospace;font-weight: bold;display: inline-block;line-height: 1.2em;}#sk-container-id-5 div.sk-label-container {text-align: center;}#sk-container-id-5 div.sk-container {/* jupyter's `normalize.less` sets `[hidden] { display: none; }` but bootstrap.min.css set `[hidden] { display: none !important; }` so we also need the `!important` here to be able to override the default hidden behavior on the sphinx rendered scikit-learn.org. See: https://github.com/scikit-learn/scikit-learn/issues/21755 */display: inline-block !important;position: relative;}#sk-container-id-5 div.sk-text-repr-fallback {display: none;}</style><div id=\"sk-container-id-5\" class=\"sk-top-container\"><div class=\"sk-text-repr-fallback\"><pre>SVC(C=4)</pre><b>In a Jupyter environment, please rerun this cell to show the HTML representation or trust the notebook. <br />On GitHub, the HTML representation is unable to render, please try loading this page with nbviewer.org.</b></div><div class=\"sk-container\" hidden><div class=\"sk-item\"><div class=\"sk-estimator sk-toggleable\"><input class=\"sk-toggleable__control sk-hidden--visually\" id=\"sk-estimator-id-9\" type=\"checkbox\" checked><label for=\"sk-estimator-id-9\" class=\"sk-toggleable__label sk-toggleable__label-arrow\">SVC</label><div class=\"sk-toggleable__content\"><pre>SVC(C=4)</pre></div></div></div></div></div>"
      ],
      "text/plain": [
       "SVC(C=4)"
      ]
     },
     "execution_count": 32,
     "metadata": {},
     "output_type": "execute_result"
    }
   ],
   "source": [
    "rscv.best_estimator_"
   ]
  },
  {
   "cell_type": "code",
   "execution_count": 33,
   "id": "97c81153",
   "metadata": {},
   "outputs": [
    {
     "data": {
      "text/plain": [
       "{'kernel': 'rbf', 'C': 4}"
      ]
     },
     "execution_count": 33,
     "metadata": {},
     "output_type": "execute_result"
    }
   ],
   "source": [
    "rscv.best_params_"
   ]
  },
  {
   "cell_type": "code",
   "execution_count": 34,
   "id": "7c75c316",
   "metadata": {},
   "outputs": [
    {
     "data": {
      "text/plain": [
       "0.915625"
      ]
     },
     "execution_count": 34,
     "metadata": {},
     "output_type": "execute_result"
    }
   ],
   "source": [
    "rscv.score(x_train_nor, y_train)"
   ]
  },
  {
   "cell_type": "code",
   "execution_count": 35,
   "id": "22e9caa5",
   "metadata": {},
   "outputs": [
    {
     "name": "stdout",
     "output_type": "stream",
     "text": [
      "Accuracy Score = 0.915625\n",
      "Confusion Matrix = \n",
      "[[190  16]\n",
      " [ 11 103]]\n",
      "Classification Report = \n",
      "               precision    recall  f1-score   support\n",
      "\n",
      "           0       0.95      0.92      0.93       206\n",
      "           1       0.87      0.90      0.88       114\n",
      "\n",
      "    accuracy                           0.92       320\n",
      "   macro avg       0.91      0.91      0.91       320\n",
      "weighted avg       0.92      0.92      0.92       320\n",
      "\n"
     ]
    }
   ],
   "source": [
    "### Training Data Evaluation \n",
    "y_pred = rscv.predict(x_train_nor)\n",
    "\n",
    "acc = accuracy_score(y_train,y_pred)\n",
    "print(f\"Accuracy Score = {acc}\")\n",
    "\n",
    "cnf_matrix = confusion_matrix(y_train,y_pred)\n",
    "print(f\"Confusion Matrix = \\n{cnf_matrix}\")\n",
    "\n",
    "clf = classification_report(y_train,y_pred)\n",
    "print(f\"Classification Report = \\n {clf}\")"
   ]
  },
  {
   "cell_type": "code",
   "execution_count": 36,
   "id": "c8c4169a",
   "metadata": {},
   "outputs": [
    {
     "data": {
      "text/plain": [
       "0.9"
      ]
     },
     "execution_count": 36,
     "metadata": {},
     "output_type": "execute_result"
    }
   ],
   "source": [
    "rscv.score(x_test_nor, y_test)"
   ]
  },
  {
   "cell_type": "code",
   "execution_count": 37,
   "id": "47808ca4",
   "metadata": {},
   "outputs": [
    {
     "name": "stdout",
     "output_type": "stream",
     "text": [
      "Accuracy Score = 0.9\n",
      "Confusion Matrix = \n",
      "[[46  5]\n",
      " [ 3 26]]\n",
      "Classification Report = \n",
      "               precision    recall  f1-score   support\n",
      "\n",
      "           0       0.94      0.90      0.92        51\n",
      "           1       0.84      0.90      0.87        29\n",
      "\n",
      "    accuracy                           0.90        80\n",
      "   macro avg       0.89      0.90      0.89        80\n",
      "weighted avg       0.90      0.90      0.90        80\n",
      "\n"
     ]
    }
   ],
   "source": [
    "### Testing Data Evaluation \n",
    "y_pred = rscv.predict(x_test_nor)\n",
    "\n",
    "acc = accuracy_score(y_test,y_pred)\n",
    "print(f\"Accuracy Score = {acc}\")\n",
    "\n",
    "cnf_matrix = confusion_matrix(y_test,y_pred)\n",
    "print(f\"Confusion Matrix = \\n{cnf_matrix}\")\n",
    "\n",
    "clf = classification_report(y_test,y_pred)\n",
    "print(f\"Classification Report = \\n {clf}\")"
   ]
  },
  {
   "cell_type": "code",
   "execution_count": null,
   "id": "c051f23b",
   "metadata": {},
   "outputs": [],
   "source": []
  }
 ],
 "metadata": {
  "kernelspec": {
   "display_name": "Python 3 (ipykernel)",
   "language": "python",
   "name": "python3"
  },
  "language_info": {
   "codemirror_mode": {
    "name": "ipython",
    "version": 3
   },
   "file_extension": ".py",
   "mimetype": "text/x-python",
   "name": "python",
   "nbconvert_exporter": "python",
   "pygments_lexer": "ipython3",
   "version": "3.11.4"
  }
 },
 "nbformat": 4,
 "nbformat_minor": 5
}
